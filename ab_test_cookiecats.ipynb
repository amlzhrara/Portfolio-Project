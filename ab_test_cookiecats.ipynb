{
 "cells": [
  {
   "cell_type": "markdown",
   "id": "94360f34",
   "metadata": {},
   "source": [
    "Cookie Cats adalah salah satu game di ponsel dengan konsep permainan memnghubungan tiga atau lebih style puzzle yang memiliki bentuk dan warna yang sama untuk memenangkan level. Cookie Cats ini memiliki gate pada permainannya untuk mendorong pemain untuk melakukan pembelian dalam aplikasi. Selain itu, gate ini juga bertujuan untuk memberikan break kepada pemain yang diharapkan dapat meningkatkan dan memperpanjang kesenangan pemain dalam bermain game.\n",
    "\n",
    "Awalnya gate ini diletakkan pada level 30, tetapi dalam hal ini kita akan melakukan pengujian A/B dimana memindahkan gate pertama dari level 30 ke level 40. Secara khusus, akan dilihat bagaimana retensi pemain terhapa peletakan gate tersebut."
   ]
  },
  {
   "cell_type": "code",
   "execution_count": 1,
   "id": "6f9696c8",
   "metadata": {},
   "outputs": [],
   "source": [
    "import pandas as pd"
   ]
  },
  {
   "cell_type": "code",
   "execution_count": 2,
   "id": "c61d984a",
   "metadata": {},
   "outputs": [],
   "source": [
    "df = pd.read_csv(\"E:/PROJECT/cookie_cats.csv\")"
   ]
  },
  {
   "cell_type": "code",
   "execution_count": 3,
   "id": "722ee948",
   "metadata": {},
   "outputs": [
    {
     "data": {
      "text/html": [
       "<div>\n",
       "<style scoped>\n",
       "    .dataframe tbody tr th:only-of-type {\n",
       "        vertical-align: middle;\n",
       "    }\n",
       "\n",
       "    .dataframe tbody tr th {\n",
       "        vertical-align: top;\n",
       "    }\n",
       "\n",
       "    .dataframe thead th {\n",
       "        text-align: right;\n",
       "    }\n",
       "</style>\n",
       "<table border=\"1\" class=\"dataframe\">\n",
       "  <thead>\n",
       "    <tr style=\"text-align: right;\">\n",
       "      <th></th>\n",
       "      <th>userid</th>\n",
       "      <th>version</th>\n",
       "      <th>sum_gamerounds</th>\n",
       "      <th>retention_1</th>\n",
       "      <th>retention_7</th>\n",
       "    </tr>\n",
       "  </thead>\n",
       "  <tbody>\n",
       "    <tr>\n",
       "      <th>0</th>\n",
       "      <td>116</td>\n",
       "      <td>gate_30</td>\n",
       "      <td>3</td>\n",
       "      <td>False</td>\n",
       "      <td>False</td>\n",
       "    </tr>\n",
       "    <tr>\n",
       "      <th>1</th>\n",
       "      <td>337</td>\n",
       "      <td>gate_30</td>\n",
       "      <td>38</td>\n",
       "      <td>True</td>\n",
       "      <td>False</td>\n",
       "    </tr>\n",
       "    <tr>\n",
       "      <th>2</th>\n",
       "      <td>377</td>\n",
       "      <td>gate_40</td>\n",
       "      <td>165</td>\n",
       "      <td>True</td>\n",
       "      <td>False</td>\n",
       "    </tr>\n",
       "    <tr>\n",
       "      <th>3</th>\n",
       "      <td>483</td>\n",
       "      <td>gate_40</td>\n",
       "      <td>1</td>\n",
       "      <td>False</td>\n",
       "      <td>False</td>\n",
       "    </tr>\n",
       "    <tr>\n",
       "      <th>4</th>\n",
       "      <td>488</td>\n",
       "      <td>gate_40</td>\n",
       "      <td>179</td>\n",
       "      <td>True</td>\n",
       "      <td>True</td>\n",
       "    </tr>\n",
       "  </tbody>\n",
       "</table>\n",
       "</div>"
      ],
      "text/plain": [
       "   userid  version  sum_gamerounds  retention_1  retention_7\n",
       "0     116  gate_30               3        False        False\n",
       "1     337  gate_30              38         True        False\n",
       "2     377  gate_40             165         True        False\n",
       "3     483  gate_40               1        False        False\n",
       "4     488  gate_40             179         True         True"
      ]
     },
     "execution_count": 3,
     "metadata": {},
     "output_type": "execute_result"
    }
   ],
   "source": [
    "df.head()"
   ]
  },
  {
   "cell_type": "markdown",
   "id": "6321aacd",
   "metadata": {},
   "source": [
    "* userid - a unique number that identifies each player.\n",
    "* version - whether the player was put in the control group (gate_30 - a gate at level 30) or the group with the moved gate (gate_40 - a gate at level 40).\n",
    "* sum_gamerounds - the number of game rounds played by the player during the first 14 days after install.\n",
    "* retention_1 - did the player come back and play 1 day after installing?\n",
    "* retention_7 - did the player come back and play 7 days after installing?\n"
   ]
  },
  {
   "cell_type": "code",
   "execution_count": 4,
   "id": "b5affd68",
   "metadata": {},
   "outputs": [
    {
     "data": {
      "text/html": [
       "<div>\n",
       "<style scoped>\n",
       "    .dataframe tbody tr th:only-of-type {\n",
       "        vertical-align: middle;\n",
       "    }\n",
       "\n",
       "    .dataframe tbody tr th {\n",
       "        vertical-align: top;\n",
       "    }\n",
       "\n",
       "    .dataframe thead th {\n",
       "        text-align: right;\n",
       "    }\n",
       "</style>\n",
       "<table border=\"1\" class=\"dataframe\">\n",
       "  <thead>\n",
       "    <tr style=\"text-align: right;\">\n",
       "      <th></th>\n",
       "      <th>userid</th>\n",
       "      <th>sum_gamerounds</th>\n",
       "      <th>retention_1</th>\n",
       "      <th>retention_7</th>\n",
       "    </tr>\n",
       "    <tr>\n",
       "      <th>version</th>\n",
       "      <th></th>\n",
       "      <th></th>\n",
       "      <th></th>\n",
       "      <th></th>\n",
       "    </tr>\n",
       "  </thead>\n",
       "  <tbody>\n",
       "    <tr>\n",
       "      <th>gate_30</th>\n",
       "      <td>44700</td>\n",
       "      <td>44700</td>\n",
       "      <td>44700</td>\n",
       "      <td>44700</td>\n",
       "    </tr>\n",
       "    <tr>\n",
       "      <th>gate_40</th>\n",
       "      <td>45489</td>\n",
       "      <td>45489</td>\n",
       "      <td>45489</td>\n",
       "      <td>45489</td>\n",
       "    </tr>\n",
       "  </tbody>\n",
       "</table>\n",
       "</div>"
      ],
      "text/plain": [
       "         userid  sum_gamerounds  retention_1  retention_7\n",
       "version                                                  \n",
       "gate_30   44700           44700        44700        44700\n",
       "gate_40   45489           45489        45489        45489"
      ]
     },
     "execution_count": 4,
     "metadata": {},
     "output_type": "execute_result"
    }
   ],
   "source": [
    "df.groupby('version').count()"
   ]
  },
  {
   "cell_type": "code",
   "execution_count": 5,
   "id": "c392b052",
   "metadata": {},
   "outputs": [],
   "source": [
    "%matplotlib inline"
   ]
  },
  {
   "cell_type": "code",
   "execution_count": 6,
   "id": "d4fecff3",
   "metadata": {},
   "outputs": [
    {
     "data": {
      "text/plain": [
       "sum_gamerounds\n",
       "0    3994\n",
       "1    5538\n",
       "2    4606\n",
       "3    3958\n",
       "4    3629\n",
       "5    2992\n",
       "6    2861\n",
       "7    2379\n",
       "8    2267\n",
       "9    2013\n",
       "Name: userid, dtype: int64"
      ]
     },
     "execution_count": 6,
     "metadata": {},
     "output_type": "execute_result"
    }
   ],
   "source": [
    "# Menghitung jumlah pemain pada setiap jumlah putaran game yang dimainkan (gamerounds). \n",
    "plot_df = df.groupby('sum_gamerounds')['userid'].count()\n",
    "plot_df.head(10)"
   ]
  },
  {
   "cell_type": "code",
   "execution_count": 7,
   "id": "7ecc4206",
   "metadata": {},
   "outputs": [
    {
     "data": {
      "text/plain": [
       "Text(0, 0.5, 'Sum Gamerounds')"
      ]
     },
     "execution_count": 7,
     "metadata": {},
     "output_type": "execute_result"
    },
    {
     "data": {
      "image/png": "[encoded data removed]",
      "text/plain": [
       "<Figure size 432x288 with 1 Axes>"
      ]
     },
     "metadata": {
      "needs_background": "light"
     },
     "output_type": "display_data"
    }
   ],
   "source": [
    "# Plot distribusi pemain yang bermain 0-100 game putaran.\n",
    "ax = plot_df.head(100).plot(x='sum_gamerounds', y='userid', kind=\"hist\")\n",
    "ax.set_xlabel(\"User id\")\n",
    "ax.set_ylabel(\"Sum Gamerounds\")"
   ]
  },
  {
   "cell_type": "markdown",
   "id": "6d4d48a3",
   "metadata": {},
   "source": [
    "Berdasarkan plot dapat dilihat bahwa terdapat pemain yang menginstall game tetapi tidak memainkannya kembali (0 game round), pemain hanya bermain sedikitnya dua kali dalam seminggu, dan pemain yang ketagihan akan game ini."
   ]
  },
  {
   "cell_type": "code",
   "execution_count": 8,
   "id": "c051e30a",
   "metadata": {},
   "outputs": [
    {
     "data": {
      "text/plain": [
       "0.4452095044850259"
      ]
     },
     "execution_count": 8,
     "metadata": {},
     "output_type": "execute_result"
    }
   ],
   "source": [
    "# Persentase pemain yang kembali bermain setelah satu hari menginstall.\n",
    "df['retention_1'].sum()/df['retention_1'].count()"
   ]
  },
  {
   "cell_type": "markdown",
   "id": "1ff67c94",
   "metadata": {},
   "source": [
    "kurang dari setengah pemain (44%) kembali setelah bermain pada hari pertama. Berikut perbedaan antara group AB."
   ]
  },
  {
   "cell_type": "code",
   "execution_count": 9,
   "id": "55876119",
   "metadata": {},
   "outputs": [
    {
     "data": {
      "text/plain": [
       "version\n",
       "gate_30    0.448188\n",
       "gate_40    0.442283\n",
       "Name: retention_1, dtype: float64"
      ]
     },
     "execution_count": 9,
     "metadata": {},
     "output_type": "execute_result"
    }
   ],
   "source": [
    "# Calculating 1-day retention for each AB-group\n",
    "df.groupby('version')['retention_1'].sum()/df.groupby('version')['retention_1'].count()"
   ]
  },
  {
   "cell_type": "markdown",
   "id": "72da68e8",
   "metadata": {},
   "source": [
    "Dengan menghitung persentasi retensi 1 hari setelah penginstall-an, terdapat perbedaan yang cukup kecil antara retensi di gate level 30 dan gate level 40. Retensi pada gate level 30 lebih tinggi dibandingkan retensi gate pada level 40. Walaupun cukup kecil, mungkin hal ini dapat berdampak besar. Untuk menyakinkan kembali apakah gate di level 30 ini lebih baik daripada gate di level 40 akan dilakukan bootstrap untuk mengetahui perbedaan yang lebih jelas."
   ]
  },
  {
   "cell_type": "code",
   "execution_count": 10,
   "id": "58ba95b4",
   "metadata": {},
   "outputs": [
    {
     "data": {
      "text/plain": [
       "<AxesSubplot:ylabel='Density'>"
      ]
     },
     "execution_count": 10,
     "metadata": {},
     "output_type": "execute_result"
    },
    {
     "data": {
      "image/png": "[encoded data removed]",
      "text/plain": [
       "<Figure size 432x288 with 1 Axes>"
      ]
     },
     "metadata": {
      "needs_background": "light"
     },
     "output_type": "display_data"
    }
   ],
   "source": [
    "# Creating an list with bootstrapped means for each AB-group\n",
    "boot_1d = []\n",
    "for i in range(500):\n",
    "    boot_mean = df.sample(frac=1, replace=True).groupby('version')['retention_1'].mean()\n",
    "    boot_1d.append(boot_mean)\n",
    "    \n",
    "# Transforming the list to a DataFrame\n",
    "boot_1d = pd.DataFrame(boot_1d)\n",
    "    \n",
    "# A Kernel Density Estimate plot of the bootstrap distributions\n",
    "boot_1d.plot(kind=\"kde\")"
   ]
  },
  {
   "cell_type": "raw",
   "id": "3db17997",
   "metadata": {},
   "source": [
    "Berdasarkan plot, kita dapat melihat bahwa terdapat beberapa bukti perbedaan antara A dan B."
   ]
  },
  {
   "cell_type": "code",
   "execution_count": 11,
   "id": "23ef7448",
   "metadata": {},
   "outputs": [
    {
     "data": {
      "text/plain": [
       "Text(0.5, 0, 'difference')"
      ]
     },
     "execution_count": 11,
     "metadata": {},
     "output_type": "execute_result"
    },
    {
     "data": {
      "image/png": "[encoded data removed]",
      "text/plain": [
       "<Figure size 432x288 with 1 Axes>"
      ]
     },
     "metadata": {
      "needs_background": "light"
     },
     "output_type": "display_data"
    }
   ],
   "source": [
    "# Adding a column with the % difference between the two AB-groups\n",
    "boot_1d['diff'] = (boot_1d['gate_30']-boot_1d['gate_40'])/boot_1d['gate_40']*100\n",
    "\n",
    "# Ploting the bootstrap % difference\n",
    "ax = boot_1d['diff'].plot()\n",
    "ax.set_xlabel(\"difference\")"
   ]
  },
  {
   "cell_type": "markdown",
   "id": "c5e918d0",
   "metadata": {},
   "source": [
    "Plot diatas menunjukan perbedaan antara 2 gate yaitu sekitar 1% - 2%, yang hampir seluruhkan di atas 0%. Berikutnya akan ditentukan peluang perbedaan dari kedua gate dengan perbedaan > 0."
   ]
  },
  {
   "cell_type": "code",
   "execution_count": 12,
   "id": "0a335bbf",
   "metadata": {},
   "outputs": [
    {
     "name": "stdout",
     "output_type": "stream",
     "text": [
      "0.944\n"
     ]
    }
   ],
   "source": [
    "# Calculating the probability that 1-day retention is greater when the gate is at level 30\n",
    "prob = (boot_1d['diff']>0).sum()/len(boot_1d['diff'])\n",
    "\n",
    "# Pretty printing the probability\n",
    "print(prob)"
   ]
  },
  {
   "cell_type": "markdown",
   "id": "b99a2156",
   "metadata": {},
   "source": [
    "Setelah bermain selama seminggu, lebih banyak pemain yang mencapai level 40. Dengan cara yang sama seperti retensi hari ke-1, akan dihitung berapa % pemain yang menginstall game muncul seminggu kemudian untuk memainkan game lagi. "
   ]
  },
  {
   "cell_type": "code",
   "execution_count": 13,
   "id": "78cfb5ed",
   "metadata": {},
   "outputs": [
    {
     "data": {
      "text/plain": [
       "version\n",
       "gate_30    0.190201\n",
       "gate_40    0.182000\n",
       "Name: retention_7, dtype: float64"
      ]
     },
     "execution_count": 13,
     "metadata": {},
     "output_type": "execute_result"
    }
   ],
   "source": [
    "# Calculating 7-day retention for both AB-groups\n",
    "df.groupby('version')['retention_7'].sum()/df.groupby('version')['retention_7'].count()"
   ]
  },
  {
   "cell_type": "markdown",
   "id": "89561087",
   "metadata": {},
   "source": [
    "Dibandingkan perbedaan retensi antara gate 30 dan gate 40 pada hari ke-1, perbedaan retensi pada AB seminggu setelah menginstall lebih besar. Ini mungkin karena pemain memiliki lebih banyak waktu untuk mencapai gate 30. Namun retensi 7 hari lebih kecil dari retensi 1 hari, lebih sedikit orang yang bermain game seminggu setelah menginstall daripada sehari setelahnya. "
   ]
  },
  {
   "cell_type": "code",
   "execution_count": 14,
   "id": "2e7f8000",
   "metadata": {},
   "outputs": [
    {
     "name": "stdout",
     "output_type": "stream",
     "text": [
      "0.998\n"
     ]
    },
    {
     "data": {
      "image/png": "[encoded data removed]",
      "text/plain": [
       "<Figure size 432x288 with 1 Axes>"
      ]
     },
     "metadata": {
      "needs_background": "light"
     },
     "output_type": "display_data"
    }
   ],
   "source": [
    "# Creating a list with bootstrapped means for each AB-group\n",
    "boot_7d = []\n",
    "for i in range(500):\n",
    "    boot_mean = df.sample(frac=1, replace=True).groupby('version')['retention_7'].mean()\n",
    "    boot_7d.append(boot_mean)\n",
    "    \n",
    "# Transforming the list to a DataFrame\n",
    "boot_7d = pd.DataFrame(boot_7d)\n",
    "\n",
    "# Adding a column with the % difference between the two AB-groups\n",
    "boot_7d['diff'] = (boot_7d['gate_30']-boot_7d['gate_40'])/boot_7d['gate_40']*100\n",
    "\n",
    "# Ploting the bootstrap % difference\n",
    "ax = boot_7d['diff'].plot()\n",
    "ax.set_xlabel(\"% difference in means\")\n",
    "\n",
    "# Calculating the probability that 7-day retention is greater when the gate is at level 30\n",
    "prob = (boot_7d['diff']>0).sum()/len(boot_7d['diff'])\n",
    "\n",
    "# Pretty printing the probability\n",
    "print(prob)"
   ]
  },
  {
   "cell_type": "markdown",
   "id": "dab3c3ab",
   "metadata": {},
   "source": [
    "Kesimpulan:\n",
    "* Jika ingin mempertahankan retensi yang tinggi, sebaiknya jangan memindahkan gate dari level 30 ke level 40. Mungkin retensi bukanlah satu-satunya tolak ukur, tetapi retensi adalah salah satu tolak ukur yang paling penting.\n",
    "* Penyebab retensi lebih tinggi ketika diletakkan di gate awal (gate 30) dapat dikaitkan dengan teori hedonis yaitu jika aktivitas menyenangkan dilakukan terus menerus kecendrungan orang untuk mendapatkan kesenangan semakin berkurang dari waktu ke waktu. Dengan memaksa pemain break ketika mencapai gate lebih awal, kesenangan mereka diperpanjang. tetapi ketika dipindahkan ke level 40, lebih sedikit pemain yang berhasil mencapai jarak yang cukup jauh dan mereka cenderung keluar dari permainan."
   ]
  },
  {
   "cell_type": "code",
   "execution_count": null,
   "id": "f655fad0",
   "metadata": {},
   "outputs": [],
   "source": []
  }
 ],
 "metadata": {
  "kernelspec": {
   "display_name": "Python 3",
   "language": "python",
   "name": "python3"
  },
  "language_info": {
   "codemirror_mode": {
    "name": "ipython",
    "version": 3
   },
   "file_extension": ".py",
   "mimetype": "text/x-python",
   "name": "python",
   "nbconvert_exporter": "python",
   "pygments_lexer": "ipython3",
   "version": "3.8.8"
  }
 },
 "nbformat": 4,
 "nbformat_minor": 5
}
