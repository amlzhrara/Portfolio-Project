{
  "nbformat": 4,
  "nbformat_minor": 0,
  "metadata": {
    "colab": {
      "name": "Regex.ipynb",
      "provenance": [],
      "collapsed_sections": [],
      "authorship_tag": "ABX9TyNHDASJJJyuZOc9EogDjswR",
      "include_colab_link": true
    },
    "kernelspec": {
      "name": "python3",
      "display_name": "Python 3"
    }
  },
  "cells": [
    {
      "cell_type": "markdown",
      "metadata": {
        "id": "view-in-github",
        "colab_type": "text"
      },
      "source": [
        "<a href=\"https://colab.research.google.com/github/amlzhrara/stunning-waddle/blob/master/Regex.ipynb\" target=\"_parent\"><img src=\"https://colab.research.google.com/assets/colab-badge.svg\" alt=\"Open In Colab\"/></a>"
      ]
    },
    {
      "cell_type": "code",
      "metadata": {
        "id": "Xya0Gn2mtvn9",
        "colab_type": "code",
        "colab": {}
      },
      "source": [
        "#import library yang dibutuhkan\n",
        "import re"
      ],
      "execution_count": 0,
      "outputs": []
    },
    {
      "cell_type": "code",
      "metadata": {
        "id": "f4ryRTfe4eK6",
        "colab_type": "code",
        "colab": {}
      },
      "source": [
        "#function email_check\n",
        "def email_check(input):\n",
        "  match = re.search('(?=^((?!-).)*$)(?=[^0-9])((?=^((?!\\.\\d).)*$)|(?=.*_))',input )\n",
        "  if match:\n",
        "    print('Pass')\n",
        "  else:\n",
        "    print('Not Pass')"
      ],
      "execution_count": 0,
      "outputs": []
    },
    {
      "cell_type": "code",
      "metadata": {
        "id": "StaD91gQg5sW",
        "colab_type": "code",
        "colab": {}
      },
      "source": [
        "#Masukkan data email ke dalam list\n",
        "emails = [\"my-name@someemail.com\",\n",
        "          \"myname@someemail.com\", \n",
        "          \"my.name@someemail.com\", \n",
        "          \"my.name2019@someemail.com\", \n",
        "          \"my.name.2019@someemail.com\",\n",
        "          \"somename.201903@someemail.com\",\n",
        "          \"my_name.201903@someemail.com\",\n",
        "          \"201903myname@someemail.com\",\n",
        "          \"201903.myname@someemail.com\"]"
      ],
      "execution_count": 0,
      "outputs": []
    },
    {
      "cell_type": "code",
      "metadata": {
        "id": "zbXvA5mfoP7m",
        "colab_type": "code",
        "colab": {
          "base_uri": "https://localhost:8080/",
          "height": 182
        },
        "outputId": "664b7bf6-1c25-4d3d-9adb-a857280f349f"
      },
      "source": [
        "#Looping untuk pengecekan Pass atau Not Pass\n",
        "for email in emails :\n",
        "  email_check(email)"
      ],
      "execution_count": 6,
      "outputs": [
        {
          "output_type": "stream",
          "text": [
            "Not Pass\n",
            "Pass\n",
            "Pass\n",
            "Pass\n",
            "Not Pass\n",
            "Not Pass\n",
            "Pass\n",
            "Not Pass\n",
            "Not Pass\n"
          ],
          "name": "stdout"
        }
      ]
    },
    {
      "cell_type": "code",
      "metadata": {
        "id": "27SA49LgnrXS",
        "colab_type": "code",
        "colab": {}
      },
      "source": [
        ""
      ],
      "execution_count": 0,
      "outputs": []
    }
  ]
}